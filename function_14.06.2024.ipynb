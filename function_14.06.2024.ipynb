{
 "cells": [
  {
   "cell_type": "code",
   "execution_count": 1,
   "id": "5c0b2c3c",
   "metadata": {},
   "outputs": [
    {
     "name": "stdout",
     "output_type": "stream",
     "text": [
      "Enter the number:45\n",
      "Enter the second number:96\n",
      "Addition of 45 and 96 is 141\n"
     ]
    }
   ],
   "source": [
    "x =int(input(\"Enter the number:\"))\n",
    "y = int(input(\"Enter the second number:\"))\n",
    "z = x+y\n",
    "print(\"Addition of {} and {} is {}\".format(x,y,z))\n",
    "\n",
    "\n",
    "x =int(input(\"Enter the number:\"))\n",
    "y = int(input(\"Enter the second number:\"))\n",
    "z = x-y\n",
    "print(\"Addition of {} and {} is {}\".format(x,y,z))\n",
    "\n",
    "\n",
    "\n",
    "x =int(input(\"Enter the number:\"))\n",
    "y = int(input(\"Enter the second number:\"))\n",
    "z = x/y\n",
    "print(\"Addition of {} and {} is {}\".format(x,y,z))\n",
    "\n",
    "\n",
    "\n",
    "x =int(input(\"Enter the number:\"))\n",
    "y = int(input(\"Enter the second number:\"))\n",
    "z = x*y\n",
    "print(\"Addition of {} and {} is {}\".format(x,y,z))"
   ]
  },
  {
   "cell_type": "code",
   "execution_count": null,
   "id": "91e93e7f",
   "metadata": {},
   "outputs": [],
   "source": [
    "Code Management\n",
    "duplicate code\n",
    "debugging issue\n",
    "security\n",
    "\n"
   ]
  },
  {
   "cell_type": "code",
   "execution_count": null,
   "id": "64b7443e",
   "metadata": {},
   "outputs": [],
   "source": [
    "function:\n",
    "    block of code which perform given task"
   ]
  },
  {
   "cell_type": "code",
   "execution_count": null,
   "id": "d988dc93",
   "metadata": {},
   "outputs": [],
   "source": [
    "def function_name(arguments/parameters):#formal arguments\n",
    "    block of code\n",
    "    return value"
   ]
  },
  {
   "cell_type": "code",
   "execution_count": null,
   "id": "0be338c9",
   "metadata": {},
   "outputs": [],
   "source": [
    "function_name(arguments/parameters) #actual arguments"
   ]
  },
  {
   "cell_type": "code",
   "execution_count": 6,
   "id": "8be8ca20",
   "metadata": {},
   "outputs": [],
   "source": [
    "def add_two_numbres():\n",
    "    x =int(input(\"Enter the number:\"))\n",
    "    y = int(input(\"Enter the second number:\"))\n",
    "    z = x+y\n",
    "    print(\"Addition of {} and {} is {}\".format(x,y,z))"
   ]
  },
  {
   "cell_type": "code",
   "execution_count": 7,
   "id": "f5a6bbed",
   "metadata": {},
   "outputs": [
    {
     "name": "stdout",
     "output_type": "stream",
     "text": [
      "Enter the number:41\n",
      "Enter the second number:20\n",
      "Addition of 41 and 20 is 61\n"
     ]
    }
   ],
   "source": [
    "add_two_numbres()"
   ]
  },
  {
   "cell_type": "code",
   "execution_count": null,
   "id": "f440b8f8",
   "metadata": {},
   "outputs": [],
   "source": [
    "Types of functions:\n",
    "    No arguments and No return values\n",
    "    With arguments and No return values\n",
    "    With arguments and with return values --99.99%\n",
    "    No arguments and with return values"
   ]
  },
  {
   "cell_type": "code",
   "execution_count": 26,
   "id": "b7655abd",
   "metadata": {},
   "outputs": [],
   "source": [
    "def add_two_numbres():\n",
    "    a =int(input(\"Enter the number:\"))\n",
    "    b = int(input(\"Enter the second number:\"))\n",
    "    c = a+b\n",
    "    return a,b,c"
   ]
  },
  {
   "cell_type": "code",
   "execution_count": 27,
   "id": "bfae91bb",
   "metadata": {},
   "outputs": [
    {
     "name": "stdout",
     "output_type": "stream",
     "text": [
      "Enter the number:10\n",
      "Enter the second number:20\n"
     ]
    }
   ],
   "source": [
    "result = add_two_numbres()"
   ]
  },
  {
   "cell_type": "code",
   "execution_count": 28,
   "id": "f27bdda0",
   "metadata": {},
   "outputs": [
    {
     "data": {
      "text/plain": [
       "(10, 20, 30)"
      ]
     },
     "execution_count": 28,
     "metadata": {},
     "output_type": "execute_result"
    }
   ],
   "source": [
    "result"
   ]
  },
  {
   "cell_type": "code",
   "execution_count": 14,
   "id": "0392da68",
   "metadata": {},
   "outputs": [
    {
     "ename": "NameError",
     "evalue": "name 'b' is not defined",
     "output_type": "error",
     "traceback": [
      "\u001b[1;31m---------------------------------------------------------------------------\u001b[0m",
      "\u001b[1;31mNameError\u001b[0m                                 Traceback (most recent call last)",
      "\u001b[1;32m<ipython-input-14-89e6c98d9288>\u001b[0m in \u001b[0;36m<module>\u001b[1;34m\u001b[0m\n\u001b[1;32m----> 1\u001b[1;33m \u001b[0mb\u001b[0m\u001b[1;33m\u001b[0m\u001b[1;33m\u001b[0m\u001b[0m\n\u001b[0m",
      "\u001b[1;31mNameError\u001b[0m: name 'b' is not defined"
     ]
    }
   ],
   "source": [
    "b"
   ]
  },
  {
   "cell_type": "code",
   "execution_count": 15,
   "id": "8e2ceb69",
   "metadata": {},
   "outputs": [
    {
     "ename": "NameError",
     "evalue": "name 'c' is not defined",
     "output_type": "error",
     "traceback": [
      "\u001b[1;31m---------------------------------------------------------------------------\u001b[0m",
      "\u001b[1;31mNameError\u001b[0m                                 Traceback (most recent call last)",
      "\u001b[1;32m<ipython-input-15-2b66fd261ee5>\u001b[0m in \u001b[0;36m<module>\u001b[1;34m\u001b[0m\n\u001b[1;32m----> 1\u001b[1;33m \u001b[0mc\u001b[0m\u001b[1;33m\u001b[0m\u001b[1;33m\u001b[0m\u001b[0m\n\u001b[0m",
      "\u001b[1;31mNameError\u001b[0m: name 'c' is not defined"
     ]
    }
   ],
   "source": [
    "c"
   ]
  },
  {
   "cell_type": "code",
   "execution_count": 29,
   "id": "240e43d2",
   "metadata": {},
   "outputs": [],
   "source": [
    "a = 78,96,55"
   ]
  },
  {
   "cell_type": "code",
   "execution_count": 30,
   "id": "2741d415",
   "metadata": {},
   "outputs": [
    {
     "data": {
      "text/plain": [
       "(78, 96, 55)"
      ]
     },
     "execution_count": 30,
     "metadata": {},
     "output_type": "execute_result"
    }
   ],
   "source": [
    "a"
   ]
  },
  {
   "cell_type": "code",
   "execution_count": 40,
   "id": "82a7b32a",
   "metadata": {},
   "outputs": [],
   "source": [
    "def add():\n",
    "    a = 10\n",
    "    b = 20\n",
    "    c =a+b\n",
    "    print(c)"
   ]
  },
  {
   "cell_type": "code",
   "execution_count": 41,
   "id": "4442b474",
   "metadata": {},
   "outputs": [
    {
     "name": "stdout",
     "output_type": "stream",
     "text": [
      "30\n"
     ]
    }
   ],
   "source": [
    "add()"
   ]
  },
  {
   "cell_type": "code",
   "execution_count": 43,
   "id": "8648388a",
   "metadata": {},
   "outputs": [],
   "source": [
    "def add(x,y):\n",
    "    z = x+y\n",
    "    print(z)"
   ]
  },
  {
   "cell_type": "code",
   "execution_count": 44,
   "id": "8004cb2c",
   "metadata": {},
   "outputs": [
    {
     "name": "stdout",
     "output_type": "stream",
     "text": [
      "1500\n"
     ]
    }
   ],
   "source": [
    "add(900,600)"
   ]
  },
  {
   "cell_type": "code",
   "execution_count": 45,
   "id": "26fe8459",
   "metadata": {},
   "outputs": [
    {
     "name": "stdout",
     "output_type": "stream",
     "text": [
      "PythonJava\n"
     ]
    }
   ],
   "source": [
    "add('Python','Java')"
   ]
  },
  {
   "cell_type": "code",
   "execution_count": 46,
   "id": "e83f5779",
   "metadata": {},
   "outputs": [],
   "source": [
    "#With arguments and with return values"
   ]
  },
  {
   "cell_type": "code",
   "execution_count": 47,
   "id": "e11e211d",
   "metadata": {},
   "outputs": [],
   "source": [
    "def username_domain_splitter(email):\n",
    "    username = email.split('@')[0]\n",
    "    domain = email.split('@')[1]\n",
    "    return username,domain"
   ]
  },
  {
   "cell_type": "code",
   "execution_count": 48,
   "id": "c25fac47",
   "metadata": {},
   "outputs": [],
   "source": [
    "user,dom =  username_domain_splitter('test@gmail.com')"
   ]
  },
  {
   "cell_type": "code",
   "execution_count": 49,
   "id": "69937217",
   "metadata": {},
   "outputs": [
    {
     "data": {
      "text/plain": [
       "'test'"
      ]
     },
     "execution_count": 49,
     "metadata": {},
     "output_type": "execute_result"
    }
   ],
   "source": [
    "user"
   ]
  },
  {
   "cell_type": "code",
   "execution_count": 50,
   "id": "96c6ca60",
   "metadata": {},
   "outputs": [
    {
     "data": {
      "text/plain": [
       "'gmail.com'"
      ]
     },
     "execution_count": 50,
     "metadata": {},
     "output_type": "execute_result"
    }
   ],
   "source": [
    "dom"
   ]
  },
  {
   "cell_type": "code",
   "execution_count": 51,
   "id": "f58bbb02",
   "metadata": {},
   "outputs": [],
   "source": [
    "def fullname(fname,lname):\n",
    "    fullname = fname+'_'+lname\n",
    "    return fullname"
   ]
  },
  {
   "cell_type": "code",
   "execution_count": 52,
   "id": "aa541d22",
   "metadata": {},
   "outputs": [],
   "source": [
    "fullnameresult = fullname('keshav','patil')"
   ]
  },
  {
   "cell_type": "code",
   "execution_count": 53,
   "id": "9fcaa0d7",
   "metadata": {},
   "outputs": [
    {
     "data": {
      "text/plain": [
       "'keshav_patil'"
      ]
     },
     "execution_count": 53,
     "metadata": {},
     "output_type": "execute_result"
    }
   ],
   "source": [
    "fullnameresult"
   ]
  },
  {
   "cell_type": "code",
   "execution_count": 56,
   "id": "743a15c2",
   "metadata": {},
   "outputs": [],
   "source": [
    "def add():\n",
    "    x =int(input(\"Enter the number:\"))\n",
    "    y = int(input(\"Enter the second number:\"))\n",
    "    z = x+y\n",
    "    return z"
   ]
  },
  {
   "cell_type": "code",
   "execution_count": 59,
   "id": "4ed8ed17",
   "metadata": {},
   "outputs": [
    {
     "name": "stdout",
     "output_type": "stream",
     "text": [
      "Enter the number:12\n",
      "Enter the second number:465\n"
     ]
    }
   ],
   "source": [
    "t = add()"
   ]
  },
  {
   "cell_type": "code",
   "execution_count": 60,
   "id": "baccd3f6",
   "metadata": {},
   "outputs": [
    {
     "data": {
      "text/plain": [
       "477"
      ]
     },
     "execution_count": 60,
     "metadata": {},
     "output_type": "execute_result"
    }
   ],
   "source": [
    "t"
   ]
  },
  {
   "cell_type": "code",
   "execution_count": 61,
   "id": "13583810",
   "metadata": {},
   "outputs": [],
   "source": [
    "p = [34,75,3476,53,46,5,32,564,876,34,3543,45]"
   ]
  },
  {
   "cell_type": "code",
   "execution_count": 62,
   "id": "d246ebb7",
   "metadata": {},
   "outputs": [],
   "source": [
    "def even_odd_fetch(p_list):\n",
    "    even = []\n",
    "    odd = []\n",
    "    for element in p_list:\n",
    "        if element%2==0:\n",
    "            even.append(element)\n",
    "        else:\n",
    "            odd.append(element)\n",
    "    return even,odd"
   ]
  },
  {
   "cell_type": "code",
   "execution_count": 63,
   "id": "e751c179",
   "metadata": {},
   "outputs": [
    {
     "name": "stdout",
     "output_type": "stream",
     "text": [
      "even list : [34, 3476, 46, 32, 564, 876, 34]\n",
      "odd list : [75, 53, 5, 3543, 45]\n"
     ]
    }
   ],
   "source": [
    "e,o = even_odd_fetch(p)\n",
    "print(\"even list :\",e)\n",
    "print(\"odd list :\",o)"
   ]
  },
  {
   "cell_type": "code",
   "execution_count": 64,
   "id": "a1ef30cc",
   "metadata": {},
   "outputs": [],
   "source": [
    "emails = ['test@gmail.com','sample@rediffmail.com','python@hadoop.com','java@gmail.com','ml@rediffmail.com']"
   ]
  },
  {
   "cell_type": "code",
   "execution_count": 65,
   "id": "aa6ca11e",
   "metadata": {},
   "outputs": [
    {
     "data": {
      "text/plain": [
       "['test@gmail.com',\n",
       " 'sample@rediffmail.com',\n",
       " 'python@hadoop.com',\n",
       " 'java@gmail.com',\n",
       " 'ml@rediffmail.com']"
      ]
     },
     "execution_count": 65,
     "metadata": {},
     "output_type": "execute_result"
    }
   ],
   "source": [
    "emails"
   ]
  },
  {
   "cell_type": "code",
   "execution_count": 66,
   "id": "c953c2b3",
   "metadata": {},
   "outputs": [],
   "source": [
    "def even_odd(num):\n",
    "    if num%2==0:\n",
    "        print(\"given number is even\")\n",
    "    else:\n",
    "        print(\"given number is odd\")\n",
    "    "
   ]
  },
  {
   "cell_type": "code",
   "execution_count": 68,
   "id": "658aa07f",
   "metadata": {},
   "outputs": [
    {
     "name": "stdout",
     "output_type": "stream",
     "text": [
      "given number is odd\n"
     ]
    }
   ],
   "source": [
    "even_odd(55)"
   ]
  },
  {
   "cell_type": "code",
   "execution_count": 69,
   "id": "40884802",
   "metadata": {},
   "outputs": [],
   "source": [
    "files = ['test.csv','sample.pdf','python.pdf','hadoop.pdf','ml.csv']"
   ]
  },
  {
   "cell_type": "code",
   "execution_count": null,
   "id": "f5af2150",
   "metadata": {},
   "outputs": [],
   "source": [
    "function --> 100% -- real time \n",
    "\n",
    "\n",
    "Assigments:\n",
    "    drive -- try to use function in every assigments--------compulsory -->"
   ]
  }
 ],
 "metadata": {
  "kernelspec": {
   "display_name": "Python 3 (ipykernel)",
   "language": "python",
   "name": "python3"
  },
  "language_info": {
   "codemirror_mode": {
    "name": "ipython",
    "version": 3
   },
   "file_extension": ".py",
   "mimetype": "text/x-python",
   "name": "python",
   "nbconvert_exporter": "python",
   "pygments_lexer": "ipython3",
   "version": "3.11.7"
  }
 },
 "nbformat": 4,
 "nbformat_minor": 5
}
