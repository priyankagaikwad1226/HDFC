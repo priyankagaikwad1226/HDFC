{
 "cells": [
  {
   "cell_type": "code",
   "execution_count": 2,
   "id": "aa23d7ff",
   "metadata": {},
   "outputs": [
    {
     "name": "stdout",
     "output_type": "stream",
     "text": [
      "hello\n",
      "Welcome \n",
      "Python\n",
      "hello\n",
      "Welcome \n",
      "Python\n",
      "hello\n",
      "Welcome \n",
      "Python\n",
      "hello\n",
      "Welcome \n",
      "Python\n",
      "hello\n",
      "Welcome \n",
      "Python\n",
      "hello\n",
      "Welcome \n",
      "Python\n",
      "hello\n",
      "Welcome \n",
      "Python\n"
     ]
    }
   ],
   "source": [
    "print(\"hello\")\n",
    "print(\"Welcome \")\n",
    "print(\"Python\")\n",
    "print(\"hello\")\n",
    "print(\"Welcome \")\n",
    "print(\"Python\")\n",
    "print(\"hello\")\n",
    "print(\"Welcome \")\n",
    "print(\"Python\")\n",
    "print(\"hello\")\n",
    "print(\"Welcome \")\n",
    "print(\"Python\")\n",
    "print(\"hello\")\n",
    "print(\"Welcome \")\n",
    "print(\"Python\")\n",
    "print(\"hello\")\n",
    "print(\"Welcome \")\n",
    "print(\"Python\")\n",
    "print(\"hello\")\n",
    "print(\"Welcome \")\n",
    "print(\"Python\")"
   ]
  },
  {
   "cell_type": "code",
   "execution_count": null,
   "id": "b772f109",
   "metadata": {},
   "outputs": [],
   "source": [
    "lines \n",
    "code -- duplicate -- \n",
    "time complexity\n",
    "space complexity"
   ]
  },
  {
   "cell_type": "code",
   "execution_count": null,
   "id": "4ee4f863",
   "metadata": {},
   "outputs": [],
   "source": [
    "loop statement:\n",
    "    1.for loop\n",
    "    2.while loop\n",
    "    \n",
    "Note : do-while is not present in python"
   ]
  },
  {
   "cell_type": "code",
   "execution_count": 4,
   "id": "c7092e5c",
   "metadata": {},
   "outputs": [],
   "source": [
    "#for loop :"
   ]
  },
  {
   "cell_type": "code",
   "execution_count": null,
   "id": "ca104c1a",
   "metadata": {},
   "outputs": [],
   "source": [
    "for loopvar in seq/DS:\n",
    "    block of code"
   ]
  },
  {
   "cell_type": "code",
   "execution_count": 5,
   "id": "48cd394c",
   "metadata": {},
   "outputs": [],
   "source": [
    "p = [34,65,324,765,324,75,5,'python','java']"
   ]
  },
  {
   "cell_type": "code",
   "execution_count": 6,
   "id": "ef8683a4",
   "metadata": {},
   "outputs": [
    {
     "name": "stdout",
     "output_type": "stream",
     "text": [
      "34\n",
      "65\n",
      "324\n",
      "765\n",
      "324\n",
      "75\n",
      "5\n",
      "python\n",
      "java\n"
     ]
    }
   ],
   "source": [
    "for element in p:\n",
    "    print(element)"
   ]
  },
  {
   "cell_type": "code",
   "execution_count": 7,
   "id": "8383d5f7",
   "metadata": {},
   "outputs": [],
   "source": [
    "p = ['python','java','ds','pandas','matplotlib','seaborn','api']"
   ]
  },
  {
   "cell_type": "code",
   "execution_count": null,
   "id": "d4d9d11c",
   "metadata": {},
   "outputs": [],
   "source": [
    "'python' --> 6\n",
    "'jave' --> 4"
   ]
  },
  {
   "cell_type": "code",
   "execution_count": 8,
   "id": "12f4befa",
   "metadata": {},
   "outputs": [
    {
     "name": "stdout",
     "output_type": "stream",
     "text": [
      "python --> 6\n",
      "java --> 4\n",
      "ds --> 2\n",
      "pandas --> 6\n",
      "matplotlib --> 10\n",
      "seaborn --> 7\n",
      "api --> 3\n"
     ]
    }
   ],
   "source": [
    "for i in p:\n",
    "    print(\"{} --> {}\".format(i,len(i)))"
   ]
  },
  {
   "cell_type": "code",
   "execution_count": 10,
   "id": "b6323af5",
   "metadata": {},
   "outputs": [
    {
     "data": {
      "text/plain": [
       "100"
      ]
     },
     "execution_count": 10,
     "metadata": {},
     "output_type": "execute_result"
    }
   ],
   "source": [
    "d = {'a':100,'b':200,'c':300,'d':400}\n",
    "\n",
    "d['a']"
   ]
  },
  {
   "cell_type": "code",
   "execution_count": 12,
   "id": "13a7829b",
   "metadata": {},
   "outputs": [
    {
     "name": "stdout",
     "output_type": "stream",
     "text": [
      "a 100\n",
      "b 200\n",
      "c 300\n",
      "d 400\n"
     ]
    }
   ],
   "source": [
    "for i in d.keys():\n",
    "    print(i,d[i])"
   ]
  },
  {
   "cell_type": "code",
   "execution_count": null,
   "id": "9ca727bb",
   "metadata": {},
   "outputs": [],
   "source": [
    "loop with condition"
   ]
  },
  {
   "cell_type": "code",
   "execution_count": 14,
   "id": "e66b9280",
   "metadata": {},
   "outputs": [],
   "source": [
    "p = [34,76,234,675,34,75,234,65,324,756,324,765,34,75]"
   ]
  },
  {
   "cell_type": "code",
   "execution_count": 17,
   "id": "2d30b22c",
   "metadata": {},
   "outputs": [
    {
     "name": "stdout",
     "output_type": "stream",
     "text": [
      "even: [34, 76, 234, 34, 234, 324, 756, 324, 34]\n",
      "odd: [675, 75, 65, 765, 75]\n"
     ]
    }
   ],
   "source": [
    "even = []\n",
    "odd = []\n",
    "for i in p:\n",
    "    if i%2==0:\n",
    "        even.append(i)\n",
    "    else:\n",
    "        odd.append(i)\n",
    "print(\"even:\",even)\n",
    "print(\"odd:\",odd)"
   ]
  },
  {
   "cell_type": "code",
   "execution_count": 19,
   "id": "3e493ac3",
   "metadata": {},
   "outputs": [],
   "source": [
    "email = ['test@gmail.com','sample@yahoo.com','sadfsdfsdfsadf','python@rediffmail.com','hadoop@gmail.com','pyspark@gmail.com']"
   ]
  },
  {
   "cell_type": "code",
   "execution_count": null,
   "id": "7fb7dd35",
   "metadata": {},
   "outputs": [],
   "source": [
    "gmail =[]\n",
    "rediffmail = []\n",
    "yahoo = []\n",
    "invalid =[]"
   ]
  }
 ],
 "metadata": {
  "kernelspec": {
   "display_name": "Python 3 (ipykernel)",
   "language": "python",
   "name": "python3"
  },
  "language_info": {
   "codemirror_mode": {
    "name": "ipython",
    "version": 3
   },
   "file_extension": ".py",
   "mimetype": "text/x-python",
   "name": "python",
   "nbconvert_exporter": "python",
   "pygments_lexer": "ipython3",
   "version": "3.11.7"
  }
 },
 "nbformat": 4,
 "nbformat_minor": 5
}
