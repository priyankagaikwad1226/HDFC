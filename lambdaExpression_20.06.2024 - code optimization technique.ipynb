{
 "cells": [
  {
   "cell_type": "code",
   "execution_count": null,
   "id": "50b9b3fa",
   "metadata": {},
   "outputs": [],
   "source": [
    "function --> task -> again-->"
   ]
  },
  {
   "cell_type": "code",
   "execution_count": null,
   "id": "6c84bdb1",
   "metadata": {},
   "outputs": [],
   "source": [
    "code memory waste"
   ]
  },
  {
   "cell_type": "code",
   "execution_count": null,
   "id": "ec2270ce",
   "metadata": {},
   "outputs": [],
   "source": [
    "lambda:\n",
    "\n",
    "it is anonymous function --> no name\n",
    "it is just in time -quick\n",
    "one time function/temporary function\n",
    "inline function\n",
    "high order function\n",
    " "
   ]
  },
  {
   "cell_type": "code",
   "execution_count": 1,
   "id": "fc3735ac",
   "metadata": {},
   "outputs": [],
   "source": [
    "def add(x,y):\n",
    "    z = x+y\n",
    "    return z"
   ]
  },
  {
   "cell_type": "code",
   "execution_count": null,
   "id": "5e27bf5f",
   "metadata": {},
   "outputs": [],
   "source": [
    "lambda inputs : outputexpression"
   ]
  },
  {
   "cell_type": "code",
   "execution_count": 2,
   "id": "76db05a0",
   "metadata": {},
   "outputs": [
    {
     "data": {
      "text/plain": [
       "210"
      ]
     },
     "execution_count": 2,
     "metadata": {},
     "output_type": "execute_result"
    }
   ],
   "source": [
    "(lambda x,y : x+y)(10,200)"
   ]
  },
  {
   "cell_type": "code",
   "execution_count": null,
   "id": "d335aa92",
   "metadata": {},
   "outputs": [],
   "source": [
    "x2+2xy+y2"
   ]
  },
  {
   "cell_type": "code",
   "execution_count": 3,
   "id": "3f3714e3",
   "metadata": {},
   "outputs": [
    {
     "data": {
      "text/plain": [
       "'PythonJava'"
      ]
     },
     "execution_count": 3,
     "metadata": {},
     "output_type": "execute_result"
    }
   ],
   "source": [
    "(lambda x,y:x+y)('Python',\"Java\")"
   ]
  },
  {
   "cell_type": "code",
   "execution_count": 13,
   "id": "72320974",
   "metadata": {},
   "outputs": [
    {
     "data": {
      "text/plain": [
       "'even'"
      ]
     },
     "execution_count": 13,
     "metadata": {},
     "output_type": "execute_result"
    }
   ],
   "source": [
    "(lambda x : \"even\" if x%2==0 else \"odd\")(20)"
   ]
  },
  {
   "cell_type": "code",
   "execution_count": null,
   "id": "3b89fa06",
   "metadata": {},
   "outputs": [],
   "source": [
    "map\n",
    "filter\n",
    "\n",
    "\n",
    "map(function,seq/DS)"
   ]
  },
  {
   "cell_type": "code",
   "execution_count": 22,
   "id": "f5387e9f",
   "metadata": {},
   "outputs": [],
   "source": [
    "p = [32,65,23,65,23,467,5]"
   ]
  },
  {
   "cell_type": "code",
   "execution_count": 23,
   "id": "4ef32eea",
   "metadata": {},
   "outputs": [],
   "source": [
    "def sqr_element(element):\n",
    "    return element**2"
   ]
  },
  {
   "cell_type": "code",
   "execution_count": 26,
   "id": "243d4b33",
   "metadata": {},
   "outputs": [
    {
     "data": {
      "text/plain": [
       "[1024, 4225, 529, 4225, 529, 218089, 25]"
      ]
     },
     "execution_count": 26,
     "metadata": {},
     "output_type": "execute_result"
    }
   ],
   "source": [
    "list(map(sqr_element,p))"
   ]
  },
  {
   "cell_type": "code",
   "execution_count": 27,
   "id": "ee948ce8",
   "metadata": {},
   "outputs": [
    {
     "data": {
      "text/plain": [
       "[1024, 4225, 529, 4225, 529, 218089, 25]"
      ]
     },
     "execution_count": 27,
     "metadata": {},
     "output_type": "execute_result"
    }
   ],
   "source": [
    "list(map(lambda x: x**2,p))"
   ]
  },
  {
   "cell_type": "code",
   "execution_count": 9,
   "id": "d04150af",
   "metadata": {},
   "outputs": [],
   "source": [
    "emails = ['test@gmail.com','sample@gmail.com','python@yahoo.com','hadoop@rediffmail.com']"
   ]
  },
  {
   "cell_type": "code",
   "execution_count": 11,
   "id": "e76bdb12",
   "metadata": {},
   "outputs": [],
   "source": [
    "def username(em):\n",
    "    u = em.split('@')[0]\n",
    "    return u"
   ]
  },
  {
   "cell_type": "code",
   "execution_count": 13,
   "id": "2c532fff",
   "metadata": {},
   "outputs": [
    {
     "data": {
      "text/plain": [
       "['test', 'sample', 'python', 'hadoop']"
      ]
     },
     "execution_count": 13,
     "metadata": {},
     "output_type": "execute_result"
    }
   ],
   "source": [
    "list(map(username,emails))"
   ]
  },
  {
   "cell_type": "code",
   "execution_count": 32,
   "id": "01022191",
   "metadata": {},
   "outputs": [],
   "source": [
    "empname = ['TEJAS','RAHUL','KETAN','RASHMIKA']"
   ]
  },
  {
   "cell_type": "code",
   "execution_count": 33,
   "id": "06622b04",
   "metadata": {},
   "outputs": [
    {
     "data": {
      "text/plain": [
       "['tejas', 'rahul', 'ketan', 'rashmika']"
      ]
     },
     "execution_count": 33,
     "metadata": {},
     "output_type": "execute_result"
    }
   ],
   "source": [
    "list(map(lambda x: x.lower(),empname))"
   ]
  },
  {
   "cell_type": "code",
   "execution_count": 35,
   "id": "e0e34ec6",
   "metadata": {},
   "outputs": [],
   "source": [
    "gen = ['m','f','f','f','m','m','m','f']"
   ]
  },
  {
   "cell_type": "code",
   "execution_count": null,
   "id": "d06bd8d4",
   "metadata": {},
   "outputs": [],
   "source": [
    "o/p : [1,0,0,0,1,1,1,0]"
   ]
  },
  {
   "cell_type": "code",
   "execution_count": 37,
   "id": "a64694d5",
   "metadata": {},
   "outputs": [
    {
     "data": {
      "text/plain": [
       "[1, 0, 0, 0, 1, 1, 1, 0]"
      ]
     },
     "execution_count": 37,
     "metadata": {},
     "output_type": "execute_result"
    }
   ],
   "source": [
    "list(map(lambda x: 1 if x=='m' else 0,gen))"
   ]
  },
  {
   "cell_type": "code",
   "execution_count": 38,
   "id": "09970621",
   "metadata": {},
   "outputs": [],
   "source": [
    "def gen_encode(elements):\n",
    "    gen_encode = []\n",
    "    for element in elements:\n",
    "        if element=='m':\n",
    "            gen_encode.append(1)\n",
    "        else:\n",
    "            gen_encode.append(0)\n",
    "    return gen_encode"
   ]
  },
  {
   "cell_type": "code",
   "execution_count": 39,
   "id": "d6ab9614",
   "metadata": {},
   "outputs": [
    {
     "data": {
      "text/plain": [
       "[1, 0, 0, 0, 1, 1, 1, 0]"
      ]
     },
     "execution_count": 39,
     "metadata": {},
     "output_type": "execute_result"
    }
   ],
   "source": [
    "gen_encode(gen)"
   ]
  },
  {
   "cell_type": "code",
   "execution_count": 40,
   "id": "448ea2de",
   "metadata": {},
   "outputs": [],
   "source": [
    "date = ['01-05-2025','03-06-2024','09-12-2012','04-08-2013']"
   ]
  },
  {
   "cell_type": "code",
   "execution_count": 43,
   "id": "ef488034",
   "metadata": {},
   "outputs": [],
   "source": [
    "def year_fetch(date_list):\n",
    "    year = []\n",
    "    for i in date_list:\n",
    "        y = i.split('-')[2]\n",
    "        year.append(y)\n",
    "    return year"
   ]
  },
  {
   "cell_type": "code",
   "execution_count": 44,
   "id": "6b9db522",
   "metadata": {},
   "outputs": [
    {
     "data": {
      "text/plain": [
       "['2025', '2024', '2012', '2013']"
      ]
     },
     "execution_count": 44,
     "metadata": {},
     "output_type": "execute_result"
    }
   ],
   "source": [
    "year_fetch(date)"
   ]
  },
  {
   "cell_type": "code",
   "execution_count": 45,
   "id": "3b96a9d7",
   "metadata": {},
   "outputs": [],
   "source": [
    "def year_fetch1(date):\n",
    "    y = date.split('-')[2]\n",
    "    return y"
   ]
  },
  {
   "cell_type": "code",
   "execution_count": 46,
   "id": "f07aacd8",
   "metadata": {},
   "outputs": [
    {
     "data": {
      "text/plain": [
       "['01-05-2025', '03-06-2024', '09-12-2012', '04-08-2013']"
      ]
     },
     "execution_count": 46,
     "metadata": {},
     "output_type": "execute_result"
    }
   ],
   "source": [
    "date"
   ]
  },
  {
   "cell_type": "code",
   "execution_count": 47,
   "id": "8dee7be3",
   "metadata": {},
   "outputs": [
    {
     "data": {
      "text/plain": [
       "['2025', '2024', '2012', '2013']"
      ]
     },
     "execution_count": 47,
     "metadata": {},
     "output_type": "execute_result"
    }
   ],
   "source": [
    "list(map(year_fetch1,date))"
   ]
  },
  {
   "cell_type": "code",
   "execution_count": 48,
   "id": "9a5587b5",
   "metadata": {},
   "outputs": [
    {
     "data": {
      "text/plain": [
       "['2025', '2024', '2012', '2013']"
      ]
     },
     "execution_count": 48,
     "metadata": {},
     "output_type": "execute_result"
    }
   ],
   "source": [
    "list(map(lambda x: x.split(\"-\")[2],date))"
   ]
  },
  {
   "cell_type": "code",
   "execution_count": null,
   "id": "6c1bcadb",
   "metadata": {},
   "outputs": [],
   "source": [
    "interview question - \n",
    "\n",
    "list of dict employees with  -\n",
    "\n",
    "keys--- name age salary ....\n",
    "\n",
    "using map give 10 % salary raise to emp with salary greater than 20K.... \n",
    "\n",
    "output in dict"
   ]
  },
  {
   "cell_type": "code",
   "execution_count": 74,
   "id": "bab17164",
   "metadata": {},
   "outputs": [],
   "source": [
    "p = [{'name':'ketan','age':25,'sal':75000},{'name':'rahul','age':30,'sal':12000},{'name':'utkarsh','age':35,'sal':95000}]"
   ]
  },
  {
   "cell_type": "code",
   "execution_count": 75,
   "id": "1a64af87",
   "metadata": {},
   "outputs": [
    {
     "data": {
      "text/plain": [
       "[{'name': 'ketan', 'age': 25, 'sal': 82500.0},\n",
       " {'name': 'rahul', 'age': 30, 'sal': 12000},\n",
       " {'name': 'utkarsh', 'age': 35, 'sal': 104500.0}]"
      ]
     },
     "execution_count": 75,
     "metadata": {},
     "output_type": "execute_result"
    }
   ],
   "source": [
    "list( map(lambda x : {**x,'sal':x['sal'] + ((x['sal']/100)*10)} if (x['sal']>20000) else x,p))"
   ]
  },
  {
   "cell_type": "code",
   "execution_count": 68,
   "id": "7bafaa7a",
   "metadata": {},
   "outputs": [],
   "source": [
    "def sal_upadate(x):\n",
    "    temp = []\n",
    "    if (x['sal']>20000):\n",
    "        temp.append(x.update({x['sal']:x['sal'] + ((x['sal']/100)*10)}))\n",
    "    else:\n",
    "        temp.append(x)\n",
    "    return temp"
   ]
  },
  {
   "cell_type": "code",
   "execution_count": 69,
   "id": "7f7321f7",
   "metadata": {},
   "outputs": [
    {
     "data": {
      "text/plain": [
       "[None]"
      ]
     },
     "execution_count": 69,
     "metadata": {},
     "output_type": "execute_result"
    }
   ],
   "source": [
    "sal_upadate({'name':'ketan','age':25,'sal':75000})"
   ]
  },
  {
   "cell_type": "code",
   "execution_count": null,
   "id": "45e9a597",
   "metadata": {},
   "outputs": [],
   "source": [
    "map(lambda x : {**x, 'sal': x['sal']+ (x{'sal']........}"
   ]
  },
  {
   "cell_type": "code",
   "execution_count": 17,
   "id": "76de7cb0",
   "metadata": {},
   "outputs": [],
   "source": [
    "p = [32,7,34,76,34,87,4,5,8,4,7,78,9546,9,45,67,576,5,6]"
   ]
  },
  {
   "cell_type": "code",
   "execution_count": 18,
   "id": "d85a2d7e",
   "metadata": {},
   "outputs": [
    {
     "data": {
      "text/plain": [
       "[32, 7, 34, 76, 34, 87, 4, 5, 8, 4, 7, 78, 9546, 9, 45, 67, 576, 5, 6]"
      ]
     },
     "execution_count": 18,
     "metadata": {},
     "output_type": "execute_result"
    }
   ],
   "source": [
    "p"
   ]
  },
  {
   "cell_type": "code",
   "execution_count": null,
   "id": "0f8b6818",
   "metadata": {},
   "outputs": [],
   "source": []
  },
  {
   "cell_type": "code",
   "execution_count": null,
   "id": "5dcc52b3",
   "metadata": {},
   "outputs": [],
   "source": [
    "map = input == output "
   ]
  },
  {
   "cell_type": "code",
   "execution_count": null,
   "id": "d527ce80",
   "metadata": {},
   "outputs": [],
   "source": [
    "filter:\n",
    "    based on condition element get filter"
   ]
  },
  {
   "cell_type": "code",
   "execution_count": 77,
   "id": "1de97f72",
   "metadata": {},
   "outputs": [],
   "source": [
    "def even_odd(element):\n",
    "    if element%2==0:\n",
    "        return True\n",
    "    else:\n",
    "        return False"
   ]
  },
  {
   "cell_type": "code",
   "execution_count": 78,
   "id": "0f330305",
   "metadata": {},
   "outputs": [],
   "source": [
    "p = [32, 7, 34, 76, 34, 87, 4, 5, 8, 4, 7, 78, 9546, 9, 45, 67, 576, 5, 6]"
   ]
  },
  {
   "cell_type": "code",
   "execution_count": 79,
   "id": "9acb2bb1",
   "metadata": {},
   "outputs": [
    {
     "data": {
      "text/plain": [
       "[32, 34, 76, 34, 4, 8, 4, 78, 9546, 576, 6]"
      ]
     },
     "execution_count": 79,
     "metadata": {},
     "output_type": "execute_result"
    }
   ],
   "source": [
    "list(filter(even_odd,p))"
   ]
  },
  {
   "cell_type": "code",
   "execution_count": 81,
   "id": "8934377e",
   "metadata": {},
   "outputs": [
    {
     "data": {
      "text/plain": [
       "[32, 34, 76, 34, 4, 8, 4, 78, 9546, 576, 6]"
      ]
     },
     "execution_count": 81,
     "metadata": {},
     "output_type": "execute_result"
    }
   ],
   "source": [
    "list(filter(lambda x: x%2==0,p))"
   ]
  },
  {
   "cell_type": "code",
   "execution_count": 80,
   "id": "b7f8791e",
   "metadata": {},
   "outputs": [],
   "source": [
    "p1 = [342,563546,'sadf',45,45,6546,324,'sdfsdf',546546,'sdfgsdfg']"
   ]
  },
  {
   "cell_type": "code",
   "execution_count": 84,
   "id": "015942ad",
   "metadata": {},
   "outputs": [
    {
     "data": {
      "text/plain": [
       "[342, 563546, 45, 45, 6546, 324, 546546]"
      ]
     },
     "execution_count": 84,
     "metadata": {},
     "output_type": "execute_result"
    }
   ],
   "source": [
    "list(filter(lambda x: str(x).isnumeric(),p1))"
   ]
  },
  {
   "cell_type": "code",
   "execution_count": 85,
   "id": "b4eb0f43",
   "metadata": {},
   "outputs": [
    {
     "data": {
      "text/plain": [
       "['test@gmail.com',\n",
       " 'sample@gmail.com',\n",
       " 'python@yahoo.com',\n",
       " 'hadoop@rediffmail.com']"
      ]
     },
     "execution_count": 85,
     "metadata": {},
     "output_type": "execute_result"
    }
   ],
   "source": [
    "emails"
   ]
  },
  {
   "cell_type": "code",
   "execution_count": 86,
   "id": "e41da169",
   "metadata": {},
   "outputs": [
    {
     "data": {
      "text/plain": [
       "['test@gmail.com', 'sample@gmail.com']"
      ]
     },
     "execution_count": 86,
     "metadata": {},
     "output_type": "execute_result"
    }
   ],
   "source": [
    "list(filter(lambda x:x.endswith('@gmail.com'),emails))"
   ]
  },
  {
   "cell_type": "code",
   "execution_count": null,
   "id": "f0001609",
   "metadata": {},
   "outputs": [],
   "source": [
    "lambda\n",
    "map\n",
    "filter\n",
    "\n",
    "for loop\n",
    "function \n",
    "\n"
   ]
  }
 ],
 "metadata": {
  "kernelspec": {
   "display_name": "Python 3 (ipykernel)",
   "language": "python",
   "name": "python3"
  },
  "language_info": {
   "codemirror_mode": {
    "name": "ipython",
    "version": 3
   },
   "file_extension": ".py",
   "mimetype": "text/x-python",
   "name": "python",
   "nbconvert_exporter": "python",
   "pygments_lexer": "ipython3",
   "version": "3.11.7"
  }
 },
 "nbformat": 4,
 "nbformat_minor": 5
}
